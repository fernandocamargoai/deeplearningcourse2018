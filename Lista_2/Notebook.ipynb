{
 "cells": [
  {
   "cell_type": "markdown",
   "metadata": {},
   "source": [
    "# Lista de Exercícios 2"
   ]
  },
  {
   "cell_type": "code",
   "execution_count": 1,
   "metadata": {},
   "outputs": [],
   "source": [
    "import numpy as np\n",
    "import pandas as pd\n",
    "import matplotlib.pyplot as plt\n",
    "%matplotlib inline\n",
    "\n",
    "from typing import List, Callable, Tuple\n",
    "import math"
   ]
  },
  {
   "cell_type": "markdown",
   "metadata": {},
   "source": [
    "### 1. Sabe-se que cada neurônio, de forma individual, estabelecerá um hiperplano de separação em um dado problema. Se uma quantidade relativamente grande de neurônios forem colocados em paralelo em uma única camada, tal rede seria capaz de separar problemas não-lineares? Justifique sua resposta."
   ]
  },
  {
   "cell_type": "markdown",
   "metadata": {},
   "source": [
    "Se ligarmos essa camada a uma camada de saída, sim. Se uma quantidade grande de neurônios forem colocados em paralelo em uma camada oculta, ligados à camada de saída, eles gerarão inúmeros hiperplanos que serão combinados pela camada de entrada. O hiperplano resultado teria um efeito serrilhado, mas seria capaz de separar problemas não lineares com uma certa precisão."
   ]
  },
  {
   "cell_type": "markdown",
   "metadata": {},
   "source": [
    "### 2. Qual a importância da escolha da função de ativação em redes neurais artificiais?"
   ]
  },
  {
   "cell_type": "markdown",
   "metadata": {},
   "source": [
    "Além de inserir não linearidade, a função de ativação influencia muito no treinamento da rede. Isso porque as técnicas de treinamento utilizam gradiente descendente, que dependem da função ser diferenciável para seu funcionamento. A importância disso é tanta que uma das coisas que ajudou a criar redes mais profundas foi a adoção de outras funções de ativação além da sigmóide e tangente hiperbólica: RELU, ELU, Leaky-ELU, etc. Essas funções foram importantes para combater o vanishing gradient e exploding gradient, que aconteciam com maior força devido à natureza da sigmóide e tangente hiperbólica, que apresentam alta variância próximo do centro, mas variânica mínima nas bordas."
   ]
  },
  {
   "cell_type": "markdown",
   "metadata": {},
   "source": [
    "### 3. Qual o possível ganho, em comparação a um único neurônio, que se pode obter em uma rede neural artificial com duas camadas de neurônios?"
   ]
  },
  {
   "cell_type": "markdown",
   "metadata": {},
   "source": [
    "Ela passa a ser capaz de resolver problemas não lineares. Além disso, poderá tratar de problemas multiclasses se sua camada de saída possuir mais de um neurônio."
   ]
  },
  {
   "cell_type": "markdown",
   "metadata": {},
   "source": [
    "### 4. Quais são as dificuldades em usar uma rede neural de múltiplas camadas?"
   ]
  },
  {
   "cell_type": "markdown",
   "metadata": {},
   "source": [
    "A dificuldade está em seu treinamento. Mesmo depois da criação do algoritmo backpropagation, ainda existe muita dificuldade em se empilhar camadas. Isso porque o backpropagation funciona com derivadas parciais da saída da rede em relação aos neurônios. Quando esses neurônios estão em camadas muito distantes da saída, esse gradiente vai ficando cada vez maior, apresentando o problema conhecido como vanishing gradient, em que o gradiente é tão pequeno que as camadas iniciais mal tem seus pesos alterados."
   ]
  },
  {
   "cell_type": "markdown",
   "metadata": {},
   "source": [
    "### 5. Explique intuitivamente o que é a regra da cadeia."
   ]
  },
  {
   "cell_type": "markdown",
   "metadata": {},
   "source": [
    "A Regra da Cadeia indica como obter o coeficiente de variação (derivada) de uma função matemática composta por outra função. Essa regra dita que esse coeficiente de variação pode ser obtido ao calcular separadamente a derivada de cada função e multiplicar os resultados. Logo, pode-se dizer que o coeficiente de variação de uma função é dado pela multiplicação dos coeficientes de cada função de forma recursiva."
   ]
  },
  {
   "cell_type": "markdown",
   "metadata": {},
   "source": [
    "### 6. Explique matematicamente o que é a regra da cadeia."
   ]
  },
  {
   "cell_type": "code",
   "execution_count": 8,
   "metadata": {},
   "outputs": [
    {
     "data": {
      "text/latex": [
       "Dadas as funções $f(x)$ e $g(x)$, e considerando que $f(x)$ seja composta por $g(x)$ (ex: $f(x) = g(x)^2$), a regra da cadeia indica que a derivada de $f(x)$ é dada por:"
      ],
      "text/plain": [
       "<IPython.core.display.Latex object>"
      ]
     },
     "metadata": {},
     "output_type": "display_data"
    }
   ],
   "source": [
    "%%latex\n",
    "Dadas as funções $f(x)$ e $g(x)$, e considerando que $f(x)$ seja composta por $g(x)$ (ex: $f(x) = g(x)^2$), a regra da cadeia indica que a derivada de $f(x)$ é dada por:"
   ]
  },
  {
   "cell_type": "code",
   "execution_count": 9,
   "metadata": {},
   "outputs": [
    {
     "data": {
      "text/latex": [
       "$f'(x) = f'(g(x))g'(x)$"
      ],
      "text/plain": [
       "<IPython.core.display.Latex object>"
      ]
     },
     "metadata": {},
     "output_type": "display_data"
    }
   ],
   "source": [
    "%%latex\n",
    "$f'(x) = f'(g(x))g'(x)$"
   ]
  },
  {
   "cell_type": "markdown",
   "metadata": {},
   "source": [
    "Ou melhor:"
   ]
  },
  {
   "cell_type": "code",
   "execution_count": 10,
   "metadata": {},
   "outputs": [
    {
     "data": {
      "text/latex": [
       "$\\frac{df}{dx} = \\frac{df}{dg} \\frac{dg}{dx}$"
      ],
      "text/plain": [
       "<IPython.core.display.Latex object>"
      ]
     },
     "metadata": {},
     "output_type": "display_data"
    }
   ],
   "source": [
    "%%latex\n",
    "$\\frac{df}{dx} = \\frac{df}{dg} \\frac{dg}{dx}$"
   ]
  },
  {
   "cell_type": "markdown",
   "metadata": {},
   "source": [
    "Caso a composição seja de múltiplas funções, essa regra se aplica recursivamente."
   ]
  },
  {
   "cell_type": "markdown",
   "metadata": {},
   "source": [
    "### 7. Qual a importância das derivadas parciais para o processo de treinamento de uma rede neural artificial multicamadas?"
   ]
  },
  {
   "cell_type": "markdown",
   "metadata": {},
   "source": [
    "As derivadas parciais permitem encontrar a variação de uma função com multiplas variáveis em relação a uma delas. Dessa forma, as derivadas parciais são utilizadas para derivar a função de erro em relação a cada um dos pesos, permitindo que seja encontrada a direção de alteração de cada peso para se minimizar o erro."
   ]
  },
  {
   "cell_type": "markdown",
   "metadata": {},
   "source": [
    "### 8. Quanto mais camadas uma rede neural artificial possuir, melhor o seu desempenho?"
   ]
  },
  {
   "cell_type": "markdown",
   "metadata": {},
   "source": [
    "Não necessariamente. Primeiro porque uma rede profunda é mais difícil de treinar, precisando de uma quantidade maior de dados para um treinamento efetivo. Segundo que quanto maior a complexidade do modelo, mais suscetível ele está ao overfitting. Ou seja, uma rede muito profunda poderá até aprender os dados de treinamento, chegando até ao ponto de \"decorá-los\", mas não conseguirá criar uma boa generalização. Isso fará com que novos dados que a rede nunca viu sejam classificados com uma baixa precisão."
   ]
  },
  {
   "cell_type": "markdown",
   "metadata": {},
   "source": [
    "### 9. Dados quatro problemas diferentes, ilustrados na figura abaixo. Como você projetaria a arquitetura de uma rede neural artificial de modo a economizar neurônios utilizados na rede?"
   ]
  },
  {
   "cell_type": "markdown",
   "metadata": {},
   "source": [
    "a) Esse problema é linearmente separável por um único hiperplano, o que permitiria que um único neurônio fosse capaz de resolver o problema.\n",
    "\n",
    "b) Esse problema pode ser separado por múltiplos hiperplanos lineares. Então, seria necessário pelo menos um neurônio por hiperplano e uma camada de saída com um neurônio por classe. Essa camada de saída combinaria os hiperplanos e cada neurônio de saída indicaria a porcentagem de chance da entrada fazer parte de sua classe. Poderíamos, então, classificar a entrada com o neurônio de maior saída. Com essa separação, é provável que fosse necessário 5 neurônios na camada oculta (um para cada hiperplano) e 5 na camada de saída (um para cada classe).\n",
    "\n",
    "c) Esse problema é linearmente separável por um único hiperplano, o que permitiria que um único neurônio fosse capaz de resolver o problema.\n",
    "\n",
    "d) Esse problema já apresenta regiões convexas para separar as classes. Logo, seria necessário ou uma quantidade maior de neurônios numa única camada oculta, para que vários hiperplanos sejam traçados e combinados na camada de saída, ou duas camadas ocultas, o que tornaria capaz de produzir regiões convexas de separação. A quantidade de neurônios na camada de saída continua sendo 5, como na (b)."
   ]
  },
  {
   "cell_type": "markdown",
   "metadata": {},
   "source": [
    "### 10. Qual a relação entre gradiente descendente, gradiente descendente estocástico e mínimos locais e globais?"
   ]
  },
  {
   "cell_type": "markdown",
   "metadata": {},
   "source": [
    "O Gradiente Descendente é uma técnica de otimização que visa encontrar um valor mínimo (ou máximo) de uma função desconhecida através do cálculo da derivada do erro com base nos exemplos de entrada e saída (dataset). O problema dessa técnica é que ela tende a ficar presa em mínimos locais, visto que a derivada tende ao zero quando um é alcançado. Para evitar que isso aconteça, utiliza-se o Gradiente Descendente Estocástico. Ao invés de considerar todos os exemplos de entrada e saída para se calcular a derivada, utiliza-se apenas um exemplo por vez, selecionado em ordem aleatória. Dessa forma, cada exemplo representa uma função diferente, a qual terá mínimos diferentes. Isso evita que a otimização fique presa em mínimos locais, mas deixa a otimização muito mais lenta, podendo até mesmo não convergir. Por isso, foi criada a otimização com Mini Batch. Ela utiliza de estocasticidade, mas calcula o gradiente com base em um batch de exemplos. Isso deixa a otimização mais estável e mais rápida, enquanto evita os mínimos locais. Mas cria um novo hiperparâmetro: o tamanho do mini batch."
   ]
  },
  {
   "cell_type": "markdown",
   "metadata": {},
   "source": [
    "### 12. Implemente o algoritmo backpropagation em linguagem python e apresente um notebook correspondente com os comentários. Por fim, mostre o gráfico de erro em relação às épocas para o conjunto de dados do exercício anterior;"
   ]
  },
  {
   "cell_type": "code",
   "execution_count": 112,
   "metadata": {},
   "outputs": [],
   "source": [
    "def shuffle(a: np.ndarray, b: np.ndarray) -> Tuple[np.ndarray, np.ndarray]:\n",
    "    assert len(a) == len(b)\n",
    "    p = np.random.permutation(len(a))\n",
    "    return a[p], b[p]\n",
    "\n",
    "\n",
    "def sigmoid(x: float) -> float:\n",
    "    return 1 / (1 + math.exp(-x))\n",
    "\n",
    "\n",
    "def sigmoid_derivative(x: float) -> float:\n",
    "    return sigmoid(x) * (1 - sigmoid(x))\n",
    "\n",
    "\n",
    "class MultilayerPerceptron:\n",
    "    def __init__(self, learning_rate: float, initial_weights: List[np.ndarray] = None, initial_bias: List[float] = None,\n",
    "                 n_neurons_per_layer: List[float] = None,\n",
    "                 activation_function: Callable[[float], float] = sigmoid,\n",
    "                 derived_activation_function: Callable[[float], float] = sigmoid_derivative,\n",
    "                 batch_size=None, n_epochs=100):\n",
    "        if n_neurons_per_layer is not None:\n",
    "            self._weights: List[np.ndarray] = []\n",
    "            self._bias: List[float] = []\n",
    "            for n, m in zip(n_neurons_per_layer[0:-1], n_neurons_per_layer[1:]):\n",
    "                self._weights.append(np.random.randn(m, n).astype(np.float32) * np.sqrt(2.0/(m)))\n",
    "                self._bias.append(0)\n",
    "        else:\n",
    "            if len(initial_bias) != len(initial_weights):\n",
    "                raise ValueError(\n",
    "                    \"Deve haver um bias e uma lista de pesos por camada, sendo que ambos tenham o mesmo tamanho.\")\n",
    "            self._weights: List[np.ndarray] = initial_weights\n",
    "            self._bias: List[float] = initial_bias\n",
    "\n",
    "        self._learning_rate: float = learning_rate\n",
    "        self._activation_function: Callable[[np.ndarray], np.ndarray] = np.vectorize(activation_function)\n",
    "        self._derived_activation_function: Callable[[np.ndarray], np.ndarray] = np.vectorize(\n",
    "            derived_activation_function)\n",
    "        self._batch_size = batch_size\n",
    "        self._n_epochs = n_epochs\n",
    "\n",
    "    def _prepend_bias(self, x: np.ndarray) -> np.ndarray:\n",
    "        return np.insert(x, 0, values=1, axis=0)\n",
    "\n",
    "    def _feed_forward(self, x: np.ndarray) -> Tuple[List[np.ndarray], List[np.ndarray]]:\n",
    "        layer_input = self._prepend_bias(x)\n",
    "        layer_outputs = []\n",
    "        layer_inner_outputs = []  # Antes da função de ativação\n",
    "        for layer_weights, layer_bias in zip(self._weights, self._bias):\n",
    "            # Adiciona o bias\n",
    "            layer_weights_with_bias = np.insert(layer_weights, 0, values=layer_bias, axis=1)\n",
    "            # Calcula saída dos neurônios antes da função de ativação\n",
    "            layer_inner_output = (layer_input * layer_weights_with_bias).sum(axis=1)\n",
    "            layer_inner_outputs.append(layer_inner_output)\n",
    "            # Aplica a função de ativação\n",
    "            layer_output = self._activation_function(layer_inner_output)\n",
    "            layer_outputs.append(layer_output)\n",
    "            # Passa a saída dessa camada como entrada para a próxima\n",
    "            layer_input = self._prepend_bias(layer_output)\n",
    "\n",
    "        return layer_outputs, layer_inner_outputs\n",
    "\n",
    "    def predict(self, X: np.ndarray) -> np.ndarray:\n",
    "        X = np.atleast_2d(X)\n",
    "        output = []\n",
    "        for x in X:\n",
    "            output.append(self._feed_forward(x)[0][-1])\n",
    "        return np.array(output)\n",
    "\n",
    "    def _step(self, X: np.ndarray, Y: np.ndarray) -> float:\n",
    "        updated_weights: List[np.ndarray] = [np.copy(neuron_weights) for neuron_weights in self._weights]\n",
    "        updated_bias = self._bias[:]\n",
    "\n",
    "        errors = []\n",
    "\n",
    "        for x, y in zip(X, Y):\n",
    "            layer_outputs, layer_inner_outputs = self._feed_forward(x)\n",
    "            errors.append((0.5 * (y - layer_outputs[-1]) ** 2).sum())\n",
    "\n",
    "            layer_inputs = [x] + layer_outputs\n",
    "\n",
    "            delta = None\n",
    "            for i in range(len(self._bias)):\n",
    "                layer_inner_output = layer_inner_outputs[-i - 1]\n",
    "                layer_output = layer_outputs[-i - 1]\n",
    "                layer_input = layer_inputs[-i - 2]\n",
    "                input_weights = np.array(self._weights[-i - 1])\n",
    "                output_weights = np.array(self._weights[-i]) if i > 0 else None\n",
    "\n",
    "                # Derivada do erro pela saída (após função de ativação)\n",
    "                error_derived_by_layer_output = layer_output - y if i == 0 else (output_weights.T * delta).sum(axis=1)\n",
    "                # Derivada da saída (após função de ativação) pela saída (antes da função de ativação)\n",
    "                layer_output_derived_by_layer_inner_output = self._derived_activation_function(layer_inner_output)\n",
    "                delta = error_derived_by_layer_output * layer_output_derived_by_layer_inner_output\n",
    "                # Derivada da saída (antes da função de ativação) pelo peso\n",
    "                layer_inner_output_derived_by_weight = (np.ones(input_weights.shape) * layer_input).T\n",
    "                # Derivada da saída (antes da função de ativação) pelo bias\n",
    "                layer_inner_output_derived_by_bias = 1\n",
    "\n",
    "                error_derived_by_weights = (delta * layer_inner_output_derived_by_weight).T\n",
    "                error_derived_by_bias = (delta * layer_inner_output_derived_by_bias).sum()\n",
    "\n",
    "                updated_weights[-i - 1] = updated_weights[-i - 1] - self._learning_rate * error_derived_by_weights\n",
    "                updated_bias[-i - 1] = updated_bias[-i - 1] - self._learning_rate * error_derived_by_bias\n",
    "\n",
    "        self._weights = updated_weights\n",
    "        self._bias = updated_bias\n",
    "\n",
    "        return sum(errors) / float(len(errors))\n",
    "\n",
    "    def fit(self, X: np.ndarray, Y: np.ndarray):\n",
    "        X = np.atleast_2d(X)\n",
    "        Y = np.atleast_2d(Y)\n",
    "\n",
    "        errors_history = []\n",
    "        for epoch in range(self._n_epochs):\n",
    "            errors = []\n",
    "            X_train, Y_train = shuffle(X, Y)\n",
    "            minibatch_size = min(self._batch_size, len(X_train)) if self._batch_size else len(X_train)\n",
    "\n",
    "            for i in range(0, X_train.shape[0], minibatch_size):\n",
    "                # Get pair of (X, y) of the current minibatch/chunk\n",
    "                X_train_mini = X_train[i:i + minibatch_size]\n",
    "                Y_train_mini = Y_train[i:i + minibatch_size]\n",
    "                errors.append(self._step(X_train_mini, Y_train_mini))\n",
    "\n",
    "            epoch_error = sum(errors) / float(len(errors))\n",
    "            errors_history.append(epoch_error)\n",
    "\n",
    "        return errors_history\n"
   ]
  },
  {
   "cell_type": "markdown",
   "metadata": {},
   "source": [
    "#### Rodando para os dados da questão 11"
   ]
  },
  {
   "cell_type": "code",
   "execution_count": 113,
   "metadata": {},
   "outputs": [],
   "source": [
    "model = MultilayerPerceptron(learning_rate=0.5, initial_weights=[np.array([[0.15, 0.2], [0.25, 0.3]]), np.array([[0.4, 0.45], [0.5, 0.55]])], initial_bias=[0.35, 0.6], n_epochs=1000)"
   ]
  },
  {
   "cell_type": "code",
   "execution_count": 114,
   "metadata": {},
   "outputs": [],
   "source": [
    "X = np.array([[0.05, 0.1]])\n",
    "Y = np.array([[0.01, 0.99]])"
   ]
  },
  {
   "cell_type": "code",
   "execution_count": 115,
   "metadata": {},
   "outputs": [],
   "source": [
    "errors = model.fit(X, Y)"
   ]
  },
  {
   "cell_type": "code",
   "execution_count": 116,
   "metadata": {},
   "outputs": [
    {
     "data": {
      "text/plain": [
       "[<matplotlib.lines.Line2D at 0x7f29c807d198>]"
      ]
     },
     "execution_count": 116,
     "metadata": {},
     "output_type": "execute_result"
    },
    {
     "data": {
      "image/png": "[encoded data removed]",
      "text/plain": [
       "<matplotlib.figure.Figure at 0x7f29c812eba8>"
      ]
     },
     "metadata": {},
     "output_type": "display_data"
    }
   ],
   "source": [
    "plt.plot(np.arange(0, len(errors)), errors)"
   ]
  },
  {
   "cell_type": "markdown",
   "metadata": {},
   "source": [
    "#### Rodando para os dados de diagnóstico de fertilidade"
   ]
  },
  {
   "cell_type": "code",
   "execution_count": 117,
   "metadata": {},
   "outputs": [],
   "source": [
    "df = pd.read_csv('Diagnostico_fertilidade.csv', sep=';')"
   ]
  },
  {
   "cell_type": "code",
   "execution_count": 118,
   "metadata": {},
   "outputs": [
    {
     "data": {
      "text/html": [
       "<div>\n",
       "<style scoped>\n",
       "    .dataframe tbody tr th:only-of-type {\n",
       "        vertical-align: middle;\n",
       "    }\n",
       "\n",
       "    .dataframe tbody tr th {\n",
       "        vertical-align: top;\n",
       "    }\n",
       "\n",
       "    .dataframe thead th {\n",
       "        text-align: right;\n",
       "    }\n",
       "</style>\n",
       "<table border=\"1\" class=\"dataframe\">\n",
       "  <thead>\n",
       "    <tr style=\"text-align: right;\">\n",
       "      <th></th>\n",
       "      <th>season</th>\n",
       "      <th>age</th>\n",
       "      <th>childish_diseases</th>\n",
       "      <th>trauma</th>\n",
       "      <th>surgical_intervention</th>\n",
       "      <th>high_fevers_last_year</th>\n",
       "      <th>alcool</th>\n",
       "      <th>smoking</th>\n",
       "      <th>sitting</th>\n",
       "      <th>diag</th>\n",
       "    </tr>\n",
       "  </thead>\n",
       "  <tbody>\n",
       "    <tr>\n",
       "      <th>0</th>\n",
       "      <td>-0.33</td>\n",
       "      <td>0.69</td>\n",
       "      <td>0</td>\n",
       "      <td>1</td>\n",
       "      <td>1</td>\n",
       "      <td>0</td>\n",
       "      <td>0.8</td>\n",
       "      <td>0</td>\n",
       "      <td>0.88</td>\n",
       "      <td>N</td>\n",
       "    </tr>\n",
       "    <tr>\n",
       "      <th>1</th>\n",
       "      <td>-0.33</td>\n",
       "      <td>0.94</td>\n",
       "      <td>1</td>\n",
       "      <td>0</td>\n",
       "      <td>1</td>\n",
       "      <td>0</td>\n",
       "      <td>0.8</td>\n",
       "      <td>1</td>\n",
       "      <td>0.31</td>\n",
       "      <td>O</td>\n",
       "    </tr>\n",
       "    <tr>\n",
       "      <th>2</th>\n",
       "      <td>-0.33</td>\n",
       "      <td>0.50</td>\n",
       "      <td>1</td>\n",
       "      <td>0</td>\n",
       "      <td>0</td>\n",
       "      <td>0</td>\n",
       "      <td>1.0</td>\n",
       "      <td>-1</td>\n",
       "      <td>0.50</td>\n",
       "      <td>N</td>\n",
       "    </tr>\n",
       "    <tr>\n",
       "      <th>3</th>\n",
       "      <td>-0.33</td>\n",
       "      <td>0.75</td>\n",
       "      <td>0</td>\n",
       "      <td>1</td>\n",
       "      <td>1</td>\n",
       "      <td>0</td>\n",
       "      <td>1.0</td>\n",
       "      <td>-1</td>\n",
       "      <td>0.38</td>\n",
       "      <td>N</td>\n",
       "    </tr>\n",
       "    <tr>\n",
       "      <th>4</th>\n",
       "      <td>-0.33</td>\n",
       "      <td>0.67</td>\n",
       "      <td>1</td>\n",
       "      <td>1</td>\n",
       "      <td>0</td>\n",
       "      <td>0</td>\n",
       "      <td>0.8</td>\n",
       "      <td>-1</td>\n",
       "      <td>0.50</td>\n",
       "      <td>O</td>\n",
       "    </tr>\n",
       "  </tbody>\n",
       "</table>\n",
       "</div>"
      ],
      "text/plain": [
       "   season   age  childish_diseases  trauma  surgical_intervention  \\\n",
       "0   -0.33  0.69                  0       1                      1   \n",
       "1   -0.33  0.94                  1       0                      1   \n",
       "2   -0.33  0.50                  1       0                      0   \n",
       "3   -0.33  0.75                  0       1                      1   \n",
       "4   -0.33  0.67                  1       1                      0   \n",
       "\n",
       "   high_fevers_last_year  alcool  smoking  sitting diag  \n",
       "0                      0     0.8        0     0.88    N  \n",
       "1                      0     0.8        1     0.31    O  \n",
       "2                      0     1.0       -1     0.50    N  \n",
       "3                      0     1.0       -1     0.38    N  \n",
       "4                      0     0.8       -1     0.50    O  "
      ]
     },
     "execution_count": 118,
     "metadata": {},
     "output_type": "execute_result"
    }
   ],
   "source": [
    "df.head()"
   ]
  },
  {
   "cell_type": "code",
   "execution_count": 119,
   "metadata": {},
   "outputs": [],
   "source": [
    "df['diag'] = df.diag.apply(lambda diag: 0 if diag == 'N' else 1)"
   ]
  },
  {
   "cell_type": "code",
   "execution_count": 120,
   "metadata": {},
   "outputs": [
    {
     "data": {
      "text/html": [
       "<div>\n",
       "<style scoped>\n",
       "    .dataframe tbody tr th:only-of-type {\n",
       "        vertical-align: middle;\n",
       "    }\n",
       "\n",
       "    .dataframe tbody tr th {\n",
       "        vertical-align: top;\n",
       "    }\n",
       "\n",
       "    .dataframe thead th {\n",
       "        text-align: right;\n",
       "    }\n",
       "</style>\n",
       "<table border=\"1\" class=\"dataframe\">\n",
       "  <thead>\n",
       "    <tr style=\"text-align: right;\">\n",
       "      <th></th>\n",
       "      <th>season</th>\n",
       "      <th>age</th>\n",
       "      <th>childish_diseases</th>\n",
       "      <th>trauma</th>\n",
       "      <th>surgical_intervention</th>\n",
       "      <th>high_fevers_last_year</th>\n",
       "      <th>alcool</th>\n",
       "      <th>smoking</th>\n",
       "      <th>sitting</th>\n",
       "      <th>diag</th>\n",
       "    </tr>\n",
       "  </thead>\n",
       "  <tbody>\n",
       "    <tr>\n",
       "      <th>0</th>\n",
       "      <td>-0.33</td>\n",
       "      <td>0.69</td>\n",
       "      <td>0</td>\n",
       "      <td>1</td>\n",
       "      <td>1</td>\n",
       "      <td>0</td>\n",
       "      <td>0.8</td>\n",
       "      <td>0</td>\n",
       "      <td>0.88</td>\n",
       "      <td>0</td>\n",
       "    </tr>\n",
       "    <tr>\n",
       "      <th>1</th>\n",
       "      <td>-0.33</td>\n",
       "      <td>0.94</td>\n",
       "      <td>1</td>\n",
       "      <td>0</td>\n",
       "      <td>1</td>\n",
       "      <td>0</td>\n",
       "      <td>0.8</td>\n",
       "      <td>1</td>\n",
       "      <td>0.31</td>\n",
       "      <td>1</td>\n",
       "    </tr>\n",
       "    <tr>\n",
       "      <th>2</th>\n",
       "      <td>-0.33</td>\n",
       "      <td>0.50</td>\n",
       "      <td>1</td>\n",
       "      <td>0</td>\n",
       "      <td>0</td>\n",
       "      <td>0</td>\n",
       "      <td>1.0</td>\n",
       "      <td>-1</td>\n",
       "      <td>0.50</td>\n",
       "      <td>0</td>\n",
       "    </tr>\n",
       "    <tr>\n",
       "      <th>3</th>\n",
       "      <td>-0.33</td>\n",
       "      <td>0.75</td>\n",
       "      <td>0</td>\n",
       "      <td>1</td>\n",
       "      <td>1</td>\n",
       "      <td>0</td>\n",
       "      <td>1.0</td>\n",
       "      <td>-1</td>\n",
       "      <td>0.38</td>\n",
       "      <td>0</td>\n",
       "    </tr>\n",
       "    <tr>\n",
       "      <th>4</th>\n",
       "      <td>-0.33</td>\n",
       "      <td>0.67</td>\n",
       "      <td>1</td>\n",
       "      <td>1</td>\n",
       "      <td>0</td>\n",
       "      <td>0</td>\n",
       "      <td>0.8</td>\n",
       "      <td>-1</td>\n",
       "      <td>0.50</td>\n",
       "      <td>1</td>\n",
       "    </tr>\n",
       "  </tbody>\n",
       "</table>\n",
       "</div>"
      ],
      "text/plain": [
       "   season   age  childish_diseases  trauma  surgical_intervention  \\\n",
       "0   -0.33  0.69                  0       1                      1   \n",
       "1   -0.33  0.94                  1       0                      1   \n",
       "2   -0.33  0.50                  1       0                      0   \n",
       "3   -0.33  0.75                  0       1                      1   \n",
       "4   -0.33  0.67                  1       1                      0   \n",
       "\n",
       "   high_fevers_last_year  alcool  smoking  sitting  diag  \n",
       "0                      0     0.8        0     0.88     0  \n",
       "1                      0     0.8        1     0.31     1  \n",
       "2                      0     1.0       -1     0.50     0  \n",
       "3                      0     1.0       -1     0.38     0  \n",
       "4                      0     0.8       -1     0.50     1  "
      ]
     },
     "execution_count": 120,
     "metadata": {},
     "output_type": "execute_result"
    }
   ],
   "source": [
    "df.head()"
   ]
  },
  {
   "cell_type": "code",
   "execution_count": 121,
   "metadata": {},
   "outputs": [],
   "source": [
    "X = df[['season', 'age', 'childish_diseases', 'trauma', 'surgical_intervention', 'high_fevers_last_year', 'alcool', 'smoking', 'sitting']].values\n",
    "Y = df[['diag']].values"
   ]
  },
  {
   "cell_type": "code",
   "execution_count": 122,
   "metadata": {},
   "outputs": [
    {
     "data": {
      "text/plain": [
       "(100, 1)"
      ]
     },
     "execution_count": 122,
     "metadata": {},
     "output_type": "execute_result"
    }
   ],
   "source": [
    "Y.shape"
   ]
  },
  {
   "cell_type": "code",
   "execution_count": 123,
   "metadata": {},
   "outputs": [],
   "source": [
    "n_neurons_per_layer = [9, 5, 1]"
   ]
  },
  {
   "cell_type": "code",
   "execution_count": 128,
   "metadata": {},
   "outputs": [],
   "source": [
    "model = MultilayerPerceptron(learning_rate=0.01, n_neurons_per_layer=n_neurons_per_layer, n_epochs=100, batch_size=20)"
   ]
  },
  {
   "cell_type": "code",
   "execution_count": 129,
   "metadata": {},
   "outputs": [],
   "source": [
    "errors = model.fit(X, Y)"
   ]
  },
  {
   "cell_type": "code",
   "execution_count": 130,
   "metadata": {},
   "outputs": [
    {
     "data": {
      "text/plain": [
       "[<matplotlib.lines.Line2D at 0x7f29c190bd68>]"
      ]
     },
     "execution_count": 130,
     "metadata": {},
     "output_type": "execute_result"
    },
    {
     "data": {
      "image/png": "[encoded data removed]",
      "text/plain": [
       "<matplotlib.figure.Figure at 0x7f29c194c7b8>"
      ]
     },
     "metadata": {},
     "output_type": "display_data"
    }
   ],
   "source": [
    "plt.plot(np.arange(0, len(errors)), errors)"
   ]
  },
  {
   "cell_type": "code",
   "execution_count": 131,
   "metadata": {},
   "outputs": [
    {
     "data": {
      "text/plain": [
       "array([[ 0.15726681],\n",
       "       [ 0.11408394],\n",
       "       [ 0.12575938],\n",
       "       [ 0.12737791],\n",
       "       [ 0.12744949],\n",
       "       [ 0.12707081],\n",
       "       [ 0.20047518],\n",
       "       [ 0.14085338],\n",
       "       [ 0.18395236],\n",
       "       [ 0.15704884],\n",
       "       [ 0.21561723],\n",
       "       [ 0.15707426],\n",
       "       [ 0.13870618],\n",
       "       [ 0.16058761],\n",
       "       [ 0.20210959],\n",
       "       [ 0.12898195],\n",
       "       [ 0.16576285],\n",
       "       [ 0.17536265],\n",
       "       [ 0.12535082],\n",
       "       [ 0.15370238],\n",
       "       [ 0.18292516],\n",
       "       [ 0.17328538],\n",
       "       [ 0.15980426],\n",
       "       [ 0.21751107],\n",
       "       [ 0.18298547],\n",
       "       [ 0.15563573],\n",
       "       [ 0.20338938],\n",
       "       [ 0.13416872],\n",
       "       [ 0.16350924],\n",
       "       [ 0.22162606],\n",
       "       [ 0.18165989],\n",
       "       [ 0.17062224],\n",
       "       [ 0.19183634],\n",
       "       [ 0.16382769],\n",
       "       [ 0.16533757],\n",
       "       [ 0.08658692],\n",
       "       [ 0.1024614 ],\n",
       "       [ 0.12822454],\n",
       "       [ 0.14082392],\n",
       "       [ 0.09848696],\n",
       "       [ 0.09778803],\n",
       "       [ 0.10211888],\n",
       "       [ 0.13760338],\n",
       "       [ 0.10518785],\n",
       "       [ 0.07621227],\n",
       "       [ 0.08679199],\n",
       "       [ 0.13220317],\n",
       "       [ 0.11909295],\n",
       "       [ 0.12785759],\n",
       "       [ 0.13324854],\n",
       "       [ 0.12645569],\n",
       "       [ 0.09438413],\n",
       "       [ 0.11737509],\n",
       "       [ 0.14923552],\n",
       "       [ 0.14096249],\n",
       "       [ 0.11882087],\n",
       "       [ 0.12978801],\n",
       "       [ 0.18902505],\n",
       "       [ 0.15105435],\n",
       "       [ 0.12923894],\n",
       "       [ 0.17369864],\n",
       "       [ 0.09980786],\n",
       "       [ 0.13767343],\n",
       "       [ 0.08387317],\n",
       "       [ 0.08670574],\n",
       "       [ 0.15099881],\n",
       "       [ 0.19517021],\n",
       "       [ 0.09617329],\n",
       "       [ 0.10293377],\n",
       "       [ 0.20632505],\n",
       "       [ 0.19517021],\n",
       "       [ 0.10373498],\n",
       "       [ 0.13726951],\n",
       "       [ 0.08988078],\n",
       "       [ 0.09554298],\n",
       "       [ 0.0875994 ],\n",
       "       [ 0.09346396],\n",
       "       [ 0.07865696],\n",
       "       [ 0.08056313],\n",
       "       [ 0.08475449],\n",
       "       [ 0.08705635],\n",
       "       [ 0.0724595 ],\n",
       "       [ 0.10259096],\n",
       "       [ 0.0791985 ],\n",
       "       [ 0.10510809],\n",
       "       [ 0.11701192],\n",
       "       [ 0.11407372],\n",
       "       [ 0.09037176],\n",
       "       [ 0.11144033],\n",
       "       [ 0.09723126],\n",
       "       [ 0.09289663],\n",
       "       [ 0.12490141],\n",
       "       [ 0.13904444],\n",
       "       [ 0.16026461],\n",
       "       [ 0.18039787],\n",
       "       [ 0.10707171],\n",
       "       [ 0.10763425],\n",
       "       [ 0.10453331],\n",
       "       [ 0.08792334],\n",
       "       [ 0.13910053]])"
      ]
     },
     "execution_count": 131,
     "metadata": {},
     "output_type": "execute_result"
    }
   ],
   "source": [
    "model.predict(X)"
   ]
  }
 ],
 "metadata": {
  "kernelspec": {
   "display_name": "Python 3",
   "language": "python",
   "name": "python3"
  },
  "language_info": {
   "codemirror_mode": {
    "name": "ipython",
    "version": 3
   },
   "file_extension": ".py",
   "mimetype": "text/x-python",
   "name": "python",
   "nbconvert_exporter": "python",
   "pygments_lexer": "ipython3",
   "version": "3.6.3"
  }
 },
 "nbformat": 4,
 "nbformat_minor": 2
}

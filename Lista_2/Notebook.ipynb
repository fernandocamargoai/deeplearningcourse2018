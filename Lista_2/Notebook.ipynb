{
 "cells": [
  {
   "cell_type": "markdown",
   "metadata": {},
   "source": [
    "# Lista de Exercícios 2"
   ]
  },
  {
   "cell_type": "code",
   "execution_count": 2,
   "metadata": {},
   "outputs": [],
   "source": [
    "import numpy as np\n",
    "import matplotlib.pyplot as plt\n",
    "%matplotlib inline\n",
    "\n",
    "from typing import List, Callable, Tuple\n",
    "import math"
   ]
  },
  {
   "cell_type": "markdown",
   "metadata": {},
   "source": [
    "### 1. Sabe-se que cada neurônio, de forma individual, estabelecerá um hiperplano de separação em um dado problema. Se uma quantidade relativamente grande de neurônios forem colocados em paralelo em uma única camada, tal rede seria capaz de separar problemas não-lineares? Justifique sua resposta."
   ]
  },
  {
   "cell_type": "markdown",
   "metadata": {},
   "source": [
    "Se ligarmos essa camada a uma camada de saída, sim. Se uma quantidade grande de neurônios forem colocados em paralelo em uma camada oculta, ligados à camada de saída, eles gerarão inúmeros hiperplanos que serão combinados pela camada de entrada. O hiperplano resultado teria um efeito serrilhado, mas seria capaz de separar problemas não lineares com uma certa precisão."
   ]
  },
  {
   "cell_type": "markdown",
   "metadata": {},
   "source": [
    "### 2. Qual a importância da escolha da função de ativação em redes neurais artificiais?"
   ]
  },
  {
   "cell_type": "markdown",
   "metadata": {},
   "source": [
    "Além de inserir não linearidade, a função de ativação influencia muito no treinamento da rede. Isso porque as técnicas de treinamento utilizam gradiente descendente, que dependem da função ser diferenciável para seu funcionamento. A importância disso é tanta que uma das coisas que ajudou a criar redes mais profundas foi a adoção de outras funções de ativação além da sigmóide e tangente hiperbólica: RELU, ELU, Leaky-ELU, etc. Essas funções foram importantes para combater o vanishing gradient e exploding gradient, que aconteciam com maior força devido à natureza da sigmóide e tangente hiperbólica, que apresentam alta variância próximo do centro, mas variânica mínima nas bordas."
   ]
  },
  {
   "cell_type": "markdown",
   "metadata": {},
   "source": [
    "### 3. Qual o possível ganho, em comparação a um único neurônio, que se pode obter em uma rede neural artificial com duas camadas de neurônios?"
   ]
  },
  {
   "cell_type": "markdown",
   "metadata": {},
   "source": [
    "Ela passa a ser capaz de resolver problemas não lineares. Além disso, poderá tratar de problemas multiclasses se sua camada de saída possuir mais de um neurônio."
   ]
  },
  {
   "cell_type": "markdown",
   "metadata": {},
   "source": [
    "### 4. Quais são as dificuldades em usar uma rede neural de múltiplas camadas?"
   ]
  },
  {
   "cell_type": "markdown",
   "metadata": {},
   "source": [
    "A dificuldade está em seu treinamento. Mesmo depois da criação do algoritmo backpropagation, ainda existe muita dificuldade em se empilhar camadas. Isso porque o backpropagation funciona com derivadas parciais da saída da rede em relação aos neurônios. Quando esses neurônios estão em camadas muito distantes da saída, esse gradiente vai ficando cada vez maior, apresentando o problema conhecido como vanishing gradient, em que o gradiente é tão pequeno que as camadas iniciais mal tem seus pesos alterados."
   ]
  },
  {
   "cell_type": "markdown",
   "metadata": {},
   "source": [
    "### 5. Explique intuitivamente o que é a regra da cadeia."
   ]
  },
  {
   "cell_type": "markdown",
   "metadata": {},
   "source": [
    "A Regra da Cadeia indica como obter o coeficiente de variação (derivada) de uma função matemática composta por outra função. Essa regra dita que esse coeficiente de variação pode ser obtido ao calcular separadamente a derivada de cada função e multiplicar os resultados. Logo, pode-se dizer que o coeficiente de variação de uma função é dado pela multiplicação dos coeficientes de cada função de forma recursiva."
   ]
  },
  {
   "cell_type": "markdown",
   "metadata": {},
   "source": [
    "### 6. Explique matematicamente o que é a regra da cadeia."
   ]
  },
  {
   "cell_type": "code",
   "execution_count": 8,
   "metadata": {},
   "outputs": [
    {
     "data": {
      "text/latex": [
       "Dadas as funções $f(x)$ e $g(x)$, e considerando que $f(x)$ seja composta por $g(x)$ (ex: $f(x) = g(x)^2$), a regra da cadeia indica que a derivada de $f(x)$ é dada por:"
      ],
      "text/plain": [
       "<IPython.core.display.Latex object>"
      ]
     },
     "metadata": {},
     "output_type": "display_data"
    }
   ],
   "source": [
    "%%latex\n",
    "Dadas as funções $f(x)$ e $g(x)$, e considerando que $f(x)$ seja composta por $g(x)$ (ex: $f(x) = g(x)^2$), a regra da cadeia indica que a derivada de $f(x)$ é dada por:"
   ]
  },
  {
   "cell_type": "code",
   "execution_count": 9,
   "metadata": {},
   "outputs": [
    {
     "data": {
      "text/latex": [
       "$f'(x) = f'(g(x))g'(x)$"
      ],
      "text/plain": [
       "<IPython.core.display.Latex object>"
      ]
     },
     "metadata": {},
     "output_type": "display_data"
    }
   ],
   "source": [
    "%%latex\n",
    "$f'(x) = f'(g(x))g'(x)$"
   ]
  },
  {
   "cell_type": "markdown",
   "metadata": {},
   "source": [
    "Ou melhor:"
   ]
  },
  {
   "cell_type": "code",
   "execution_count": 10,
   "metadata": {},
   "outputs": [
    {
     "data": {
      "text/latex": [
       "$\\frac{df}{dx} = \\frac{df}{dg} \\frac{dg}{dx}$"
      ],
      "text/plain": [
       "<IPython.core.display.Latex object>"
      ]
     },
     "metadata": {},
     "output_type": "display_data"
    }
   ],
   "source": [
    "%%latex\n",
    "$\\frac{df}{dx} = \\frac{df}{dg} \\frac{dg}{dx}$"
   ]
  },
  {
   "cell_type": "markdown",
   "metadata": {},
   "source": [
    "Caso a composição seja de múltiplas funções, essa regra se aplica recursivamente."
   ]
  },
  {
   "cell_type": "markdown",
   "metadata": {},
   "source": [
    "### 7. Qual a importância das derivadas parciais para o processo de treinamento de uma rede neural artificial multicamadas?"
   ]
  },
  {
   "cell_type": "markdown",
   "metadata": {},
   "source": [
    "As derivadas parciais permitem encontrar a variação de uma função com multiplas variáveis em relação a uma delas. Dessa forma, as derivadas parciais são utilizadas para derivar a função de erro em relação a cada um dos pesos, permitindo que seja encontrada a direção de alteração de cada peso para se minimizar o erro."
   ]
  },
  {
   "cell_type": "markdown",
   "metadata": {},
   "source": [
    "### 8. Quanto mais camadas uma rede neural artificial possuir, melhor o seu desempenho?"
   ]
  },
  {
   "cell_type": "markdown",
   "metadata": {},
   "source": [
    "Não necessariamente. Primeiro porque uma rede profunda é mais difícil de treinar, precisando de uma quantidade maior de dados para um treinamento efetivo. Segundo que quanto maior a complexidade do modelo, mais suscetível ele está ao overfitting. Ou seja, uma rede muito profunda poderá até aprender os dados de treinamento, chegando até ao ponto de \"decorá-los\", mas não conseguirá criar uma boa generalização. Isso fará com que novos dados que a rede nunca viu sejam classificados com uma baixa precisão."
   ]
  },
  {
   "cell_type": "markdown",
   "metadata": {},
   "source": [
    "### 9. Dados quatro problemas diferentes, ilustrados na figura abaixo. Como você projetaria a arquitetura de uma rede neural artificial de modo a economizar neurônios utilizados na rede?"
   ]
  },
  {
   "cell_type": "markdown",
   "metadata": {},
   "source": [
    "a) Esse problema é linearmente separável por um único hiperplano, o que permitiria que um único neurônio fosse capaz de resolver o problema.\n",
    "\n",
    "b) Esse problema pode ser separado por múltiplos hiperplanos lineares. Então, seria necessário pelo menos um neurônio por hiperplano e uma camada de saída com um neurônio por classe. Essa camada de saída combinaria os hiperplanos e cada neurônio de saída indicaria a porcentagem de chance da entrada fazer parte de sua classe. Poderíamos, então, classificar a entrada com o neurônio de maior saída. Com essa separação, é provável que fosse necessário 5 neurônios na camada oculta (um para cada hiperplano) e 5 na camada de saída (um para cada classe).\n",
    "\n",
    "c) Esse problema é linearmente separável por um único hiperplano, o que permitiria que um único neurônio fosse capaz de resolver o problema.\n",
    "\n",
    "d) Esse problema já apresenta regiões convexas para separar as classes. Logo, seria necessário ou uma quantidade maior de neurônios numa única camada oculta, para que vários hiperplanos sejam traçados e combinados na camada de saída, ou duas camadas ocultas, o que tornaria capaz de produzir regiões convexas de separação. A quantidade de neurônios na camada de saída continua sendo 5, como na (b)."
   ]
  },
  {
   "cell_type": "markdown",
   "metadata": {},
   "source": [
    "### 10. Qual a relação entre gradiente descendente, gradiente descendente estocástico e mínimos locais e globais?"
   ]
  },
  {
   "cell_type": "markdown",
   "metadata": {},
   "source": [
    "O Gradiente Descendente é uma técnica de otimização que visa encontrar um valor mínimo (ou máximo) de uma função desconhecida através do cálculo da derivada do erro com base nos exemplos de entrada e saída (dataset). O problema dessa técnica é que ela tende a ficar presa em mínimos locais, visto que a derivada tende ao zero quando um é alcançado. Para evitar que isso aconteça, utiliza-se o Gradiente Descendente Estocástico. Ao invés de considerar todos os exemplos de entrada e saída para se calcular a derivada, utiliza-se apenas um exemplo por vez, selecionado em ordem aleatória. Dessa forma, cada exemplo representa uma função diferente, a qual terá mínimos diferentes. Isso evita que a otimização fique presa em mínimos locais, mas deixa a otimização muito mais lenta, podendo até mesmo não convergir. Por isso, foi criada a otimização com Mini Batch. Ela utiliza de estocasticidade, mas calcula o gradiente com base em um batch de exemplos. Isso deixa a otimização mais estável e mais rápida, enquanto evita os mínimos locais. Mas cria um novo hiperparâmetro: o tamanho do mini batch."
   ]
  },
  {
   "cell_type": "markdown",
   "metadata": {},
   "source": [
    "### 12. Implemente o algoritmo backpropagation em linguagem python e apresente um notebook correspondente com os comentários. Por fim, mostre o gráfico de erro em relação às épocas para o conjunto de dados do exercício anterior;"
   ]
  },
  {
   "cell_type": "code",
   "execution_count": 118,
   "metadata": {},
   "outputs": [],
   "source": [
    "class MultilayerPerceptron:\n",
    "    def __init__(self, initial_weights: List[List[np.ndarray]], bias: List[float], learning_rate: float,\n",
    "                 activation_function: Callable[[float], float], derived_activation_function: Callable[[float], float]):\n",
    "        if len(bias) != len(initial_weights):\n",
    "            raise ValueError(\n",
    "                \"Deve haver um bias e uma lista de pesos por camada, sendo que ambos tenham o mesmo tamanho.\")\n",
    "        self._weights: List[List[np.ndarray]] = initial_weights\n",
    "        self._bias: List[float] = bias\n",
    "        self._learning_rate: float = learning_rate\n",
    "        self._activation_function: Callable[[np.ndarray], np.ndarray] = np.vectorize(activation_function)\n",
    "        self._derived_activation_function: Callable[[np.ndarray], np.ndarray] = np.vectorize(\n",
    "            derived_activation_function)\n",
    "\n",
    "    def _prepend_bias(self, x: np.ndarray) -> np.ndarray:\n",
    "        return np.insert(x, 0, values=1, axis=0)\n",
    "\n",
    "    def _feed_forward(self, x: np.ndarray) -> Tuple[List[np.ndarray], List[np.ndarray]]:\n",
    "        layer_input = self._prepend_bias(x)\n",
    "        layer_outputs = []\n",
    "        layer_inner_outputs = [] # Antes da função de ativação\n",
    "        for layer_weights, layer_bias in zip(self._weights, self._bias):\n",
    "            layer_inner_output = []\n",
    "            for neuron_weights in layer_weights:\n",
    "                neuron_weights_with_bias = np.insert(neuron_weights, 0, values=layer_bias, axis=0)\n",
    "                neuron_output = (layer_input * neuron_weights_with_bias).sum()\n",
    "                layer_inner_output.append(neuron_output)\n",
    "\n",
    "            # Calcula saída dos neurônios antes da função de ativação\n",
    "            layer_inner_output = np.array(layer_inner_output)\n",
    "            layer_inner_outputs.append(layer_inner_output)\n",
    "            # Aplica a função de ativação\n",
    "            layer_output = self._activation_function(layer_inner_output)\n",
    "            layer_outputs.append(layer_output)\n",
    "            # Passa a saída dessa camada como entrada para a próxima\n",
    "            layer_input = self._prepend_bias(layer_output)\n",
    "\n",
    "        return layer_outputs, layer_inner_outputs\n",
    "\n",
    "    def predict(self, X: np.ndarray) -> np.ndarray:\n",
    "        X = np.atleast_2d(X)\n",
    "        output = []\n",
    "        for x in X:\n",
    "            output.append(self._feed_forward(x)[0][-1])\n",
    "        return np.array(output)\n",
    "\n",
    "    def fit(self, X: np.ndarray, Y: np.ndarray):\n",
    "        X = np.atleast_2d(X)\n",
    "        Y = np.atleast_2d(Y)\n",
    "\n",
    "        weights_history = [self._weights]\n",
    "        bias_history = [self._bias]\n",
    "        errors_history = []\n",
    "        for epoch in range(1):\n",
    "\n",
    "            for x, y in zip(X, Y):\n",
    "                layer_outputs, layer_inner_outputs = self._feed_forward(x)\n",
    "                error = 0.5 * (y - layer_outputs[-1]) ** 2\n",
    "                print(\"Error:\", error)\n",
    "\n",
    "                layer_inputs = [x] + layer_outputs\n",
    "\n",
    "                delta = None\n",
    "                for i in range(len(self._bias)):\n",
    "                    layer_inner_output = layer_inner_outputs[-i-1]\n",
    "                    layer_output = layer_outputs[-i-1]\n",
    "                    layer_input = layer_inputs[-i-2]\n",
    "                    output_weights = np.array(self._weights[-i]) if i > 0 else None\n",
    "                    print(\"output_weights\", output_weights)\n",
    "\n",
    "                    error_derived_by_layer_output = layer_output - y if i == 0 else (output_weights.T * delta).sum(axis=1)\n",
    "                    layer_output_derived_by_layer_inner_output = self._derived_activation_function(layer_inner_output)\n",
    "                    delta = error_derived_by_layer_output * layer_output_derived_by_layer_inner_output\n",
    "                    neuron_output_derived_by_weight = layer_input\n",
    "                    neuron_output_derived_by_bias = 1\n",
    "\n",
    "                    error_derived_by_weights = delta * neuron_output_derived_by_weight\n",
    "                    error_derived_by_bias = (delta * neuron_output_derived_by_bias).sum()\n",
    "\n",
    "                    print(\"Derivada de E por g\", error_derived_by_layer_output)\n",
    "                    print(\"Derivada de g por net\", layer_output_derived_by_layer_inner_output)\n",
    "                    print(\"Delta\", delta)\n",
    "                    print(\"Derivada de NET por w\", layer_input)\n",
    "                    print(\"Derivada de E por w\", error_derived_by_weights)\n",
    "                    print(\"Derivada de E por b\", error_derived_by_bias)\n",
    "\n",
    "\n",
    "            mse = ((output - Y) ** 2).mean(axis=0)\n",
    "\n",
    "            # output = self._calculate_output(X)\n",
    "            # errors = (y - output)\n",
    "            # delta = self._learning_rate * adaline._prepend_bias(X).T.dot(errors)\n",
    "            # self._weights = self._weights + delta\n",
    "\n",
    "            weights_history.append(self._weights)\n",
    "            bias_history.append(self._bias)\n",
    "            errors_history.append(mse)\n",
    "\n",
    "        return weights_history, errors_history"
   ]
  },
  {
   "cell_type": "code",
   "execution_count": 119,
   "metadata": {},
   "outputs": [],
   "source": [
    "def sigmoid(x: float) -> float:\n",
    "    return 1 / (1 + math.exp(-x))\n",
    "\n",
    "def sigmoid_derivative(x: float) -> float:\n",
    "    return sigmoid(x) * (1 - sigmoid(x))\n",
    "\n",
    "model = MultilayerPerceptron([[np.array([0.15, 0.2]), np.array([0.25, 0.3])], [np.array([0.4, 0.45]), np.array([0.5, 0.55])]], [0.35, 0.6], 0.01, sigmoid, sigmoid_derivative)"
   ]
  },
  {
   "cell_type": "code",
   "execution_count": 120,
   "metadata": {},
   "outputs": [],
   "source": [
    "X = np.array([[0.05, 0.1], [0.06, 0.11]])\n",
    "Y = np.array([[0.01, 0.99], [0.015, 0.999]])"
   ]
  },
  {
   "cell_type": "code",
   "execution_count": 121,
   "metadata": {},
   "outputs": [
    {
     "data": {
      "text/plain": [
       "array([ 0.69645219,  0.66802932])"
      ]
     },
     "execution_count": 121,
     "metadata": {},
     "output_type": "execute_result"
    }
   ],
   "source": [
    "(model.predict(X) - X).mean(axis=0)"
   ]
  },
  {
   "cell_type": "code",
   "execution_count": 122,
   "metadata": {},
   "outputs": [
    {
     "name": "stdout",
     "output_type": "stream",
     "text": [
      "Error: [ 0.27481108  0.02356003]\n",
      "output_weights None\n",
      "Derivada de E por g [ 0.74136507 -0.21707153]\n",
      "Derivada de g por net [ 0.1868156   0.17551005]\n",
      "Delta [ 0.13849856 -0.03809824]\n",
      "Derivada de NET por w [ 0.59326999  0.59688438]\n",
      "Derivada de E por w [ 0.08216704 -0.02274024]\n",
      "Derivada de E por b 0.100400325112\n",
      "output_weights [[ 0.4   0.45]\n",
      " [ 0.5   0.55]]\n",
      "Derivada de E por g [ 0.03635031  0.04137032]\n",
      "Derivada de g por net [ 0.24130071  0.24061342]\n",
      "Delta [ 0.00877135  0.00995425]\n",
      "Derivada de NET por w [ 0.05  0.1 ]\n",
      "Derivada de E por w [ 0.00043857  0.00099543]\n",
      "Derivada de E por b 0.0187256093947\n",
      "Error: [ 0.27124508  0.02550859]\n",
      "output_weights None\n",
      "Derivada de E por g [ 0.73653931 -0.22586983]\n",
      "Derivada de g por net [ 0.18672798  0.17539991]\n",
      "Delta [ 0.13753249 -0.03961755]\n",
      "Derivada de NET por w [ 0.59411427  0.59820704]\n",
      "Derivada de E por w [ 0.08171002 -0.0236995 ]\n",
      "Derivada de E por b 0.0979149459229\n",
      "output_weights [[ 0.4   0.45]\n",
      " [ 0.5   0.55]]\n",
      "Derivada de E por g [ 0.03520422  0.04009997]\n",
      "Derivada de g por net [ 0.2411425   0.24035538]\n",
      "Delta [ 0.00848923  0.00963824]\n",
      "Derivada de NET por w [ 0.06  0.11]\n",
      "Derivada de E por w [ 0.00050935  0.00106021]\n",
      "Derivada de E por b 0.0181274782291\n"
     ]
    },
    {
     "ename": "NameError",
     "evalue": "name 'output' is not defined",
     "output_type": "error",
     "traceback": [
      "\u001b[0;31m---------------------------------------------------------------------------\u001b[0m",
      "\u001b[0;31mNameError\u001b[0m                                 Traceback (most recent call last)",
      "\u001b[0;32m<ipython-input-122-8afbdfdda993>\u001b[0m in \u001b[0;36m<module>\u001b[0;34m()\u001b[0m\n\u001b[0;32m----> 1\u001b[0;31m \u001b[0mmodel\u001b[0m\u001b[0;34m.\u001b[0m\u001b[0mfit\u001b[0m\u001b[0;34m(\u001b[0m\u001b[0mX\u001b[0m\u001b[0;34m,\u001b[0m \u001b[0mY\u001b[0m\u001b[0;34m)\u001b[0m\u001b[0;34m\u001b[0m\u001b[0m\n\u001b[0m",
      "\u001b[0;32m<ipython-input-118-6232fa079088>\u001b[0m in \u001b[0;36mfit\u001b[0;34m(self, X, Y)\u001b[0m\n\u001b[1;32m     85\u001b[0m \u001b[0;34m\u001b[0m\u001b[0m\n\u001b[1;32m     86\u001b[0m \u001b[0;34m\u001b[0m\u001b[0m\n\u001b[0;32m---> 87\u001b[0;31m             \u001b[0mmse\u001b[0m \u001b[0;34m=\u001b[0m \u001b[0;34m(\u001b[0m\u001b[0;34m(\u001b[0m\u001b[0moutput\u001b[0m \u001b[0;34m-\u001b[0m \u001b[0mY\u001b[0m\u001b[0;34m)\u001b[0m \u001b[0;34m**\u001b[0m \u001b[0;36m2\u001b[0m\u001b[0;34m)\u001b[0m\u001b[0;34m.\u001b[0m\u001b[0mmean\u001b[0m\u001b[0;34m(\u001b[0m\u001b[0maxis\u001b[0m\u001b[0;34m=\u001b[0m\u001b[0;36m0\u001b[0m\u001b[0;34m)\u001b[0m\u001b[0;34m\u001b[0m\u001b[0m\n\u001b[0m\u001b[1;32m     88\u001b[0m \u001b[0;34m\u001b[0m\u001b[0m\n\u001b[1;32m     89\u001b[0m             \u001b[0;31m# output = self._calculate_output(X)\u001b[0m\u001b[0;34m\u001b[0m\u001b[0;34m\u001b[0m\u001b[0m\n",
      "\u001b[0;31mNameError\u001b[0m: name 'output' is not defined"
     ]
    }
   ],
   "source": [
    "model.fit(X, Y)"
   ]
  },
  {
   "cell_type": "code",
   "execution_count": 64,
   "metadata": {},
   "outputs": [],
   "source": [
    "weights = np.array([[ 0.4 ,  0.45], [ 0.5 ,  0.55]])"
   ]
  },
  {
   "cell_type": "code",
   "execution_count": 83,
   "metadata": {},
   "outputs": [],
   "source": [
    "delta = np.array([ 0.13849856, -0.03809824])"
   ]
  },
  {
   "cell_type": "code",
   "execution_count": 84,
   "metadata": {},
   "outputs": [
    {
     "data": {
      "text/plain": [
       "array([[ 0.4 ,  0.5 ],\n",
       "       [ 0.45,  0.55]])"
      ]
     },
     "execution_count": 84,
     "metadata": {},
     "output_type": "execute_result"
    }
   ],
   "source": [
    "weights.T"
   ]
  },
  {
   "cell_type": "code",
   "execution_count": 92,
   "metadata": {},
   "outputs": [
    {
     "data": {
      "text/plain": [
       "array([ 0.0363503 ,  0.04137032])"
      ]
     },
     "execution_count": 92,
     "metadata": {},
     "output_type": "execute_result"
    }
   ],
   "source": [
    "(weights.T*delta).sum(axis=1)"
   ]
  },
  {
   "cell_type": "code",
   "execution_count": 77,
   "metadata": {},
   "outputs": [
    {
     "data": {
      "text/plain": [
       "0.055399424"
      ]
     },
     "execution_count": 77,
     "metadata": {},
     "output_type": "execute_result"
    }
   ],
   "source": [
    "0.4*0.13849856"
   ]
  },
  {
   "cell_type": "code",
   "execution_count": null,
   "metadata": {},
   "outputs": [],
   "source": [
    "0.45*"
   ]
  }
 ],
 "metadata": {
  "kernelspec": {
   "display_name": "Python 3",
   "language": "python",
   "name": "python3"
  },
  "language_info": {
   "codemirror_mode": {
    "name": "ipython",
    "version": 3
   },
   "file_extension": ".py",
   "mimetype": "text/x-python",
   "name": "python",
   "nbconvert_exporter": "python",
   "pygments_lexer": "ipython3",
   "version": "3.6.3"
  }
 },
 "nbformat": 4,
 "nbformat_minor": 2
}
